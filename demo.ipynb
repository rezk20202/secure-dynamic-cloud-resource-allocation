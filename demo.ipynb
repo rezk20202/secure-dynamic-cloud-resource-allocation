{
 "cells": [
  {
   "cell_type": "markdown",
   "metadata": {},
   "source": [
    "# Secure Cloud Resource Allocation System Demo\n",
    "\n",
    "This notebook demonstrates the use of the Secure Cloud Resource Allocation System, which integrates DRL-based resource allocation with an intrusion detection system."
   ]
  },
  {
   "cell_type": "markdown",
   "metadata": {},
   "source": [
    "## 1. Setup and Environment Initialization"
   ]
  },
  {
   "cell_type": "code",
   "execution_count": null,
   "metadata": {},
   "outputs": [],
   "source": [
    "# Add parent directory to path\n",
    "import sys\n",
    "import os\n",
    "sys.path.append('..')\n",
    "\n",
    "# Import required modules\n",
    "import numpy as np\n",
    "import matplotlib.pyplot as plt\n",
    "import time\n",
    "from IPython.display import clear_output\n",
    "\n",
    "# Import system components\n",
    "from src.environment import CloudEnvironment\n",
    "from src.drl_agent import DRLAgent\n",
    "from src.ids import IntrusionDetectionSystem\n",
    "from src.secure_manager import SecureCloudManager\n",
    "from src.visualizer import Visualizer"
   ]
  },
  {
   "cell_type": "markdown",
   "metadata": {},
   "source": [
    "### Configure System Parameters"
   ]
  },
  {
   "cell_type": "code",
   "execution_count": null,
   "metadata": {},
   "outputs": [],
   "source": [
    "# System parameters\n",
    "num_vms = 10\n",
    "num_resources = 4\n",
    "security_weight = 0.3\n",
    "monitoring_interval = 5  # seconds\n",
    "\n",
    "# Create output directory for visualizations\n",
    "output_dir = 'demo_output'\n",
    "if not os.path.exists(output_dir):\n",
    "    os.makedirs(output_dir)"
   ]
  },
  {
   "cell_type": "markdown",
   "metadata": {},
   "source": [
    "### Initialize the System"
   ]
  },
  {
   "cell_type": "code",
   "execution_count": null,
   "metadata": {},
   "outputs": [],
   "source": [
    "# Create secure cloud manager\n",
    "manager = SecureCloudManager(\n",
    "    num_vms=num_vms,\n",
    "    num_resources=num_resources,\n",
    "    security_weight=security_weight,\n",
    "    monitoring_interval=monitoring_interval,\n",
    "    log_level='INFO'\n",
    ")\n",
    "\n",
    "# Create visualizer\n",
    "visualizer = Visualizer(output_dir=output_dir)"
   ]
  },
  {
   "cell_type": "markdown",
   "metadata": {},
   "source": [
    "## 2. Training the IDS and DRL Agent\n",
    "\n",
    "First, we'll train the Intrusion Detection System to recognize attack patterns."
   ]
  },
  {
   "cell_type": "code",
   "execution_count": null,
   "metadata": {},
   "outputs": [],
   "source": [
    "# Train the IDS\n",
    "manager._train_ids()"
   ]
  },
  {
   "cell_type": "markdown",
   "metadata": {},
   "source": [
    "Now, let's train the DRL agent for resource allocation. This will take some time as the agent learns optimal policies."
   ]
  },
  {
   "cell_type": "code",
   "execution_count": null,
   "metadata": {},
   "outputs": [],
   "source": [
    "# Train the DRL agent (smaller number of episodes for demonstration)\n",
    "manager.train(episodes=50, max_steps=50)"
   ]
  },
  {
   "cell_type": "markdown",
   "metadata": {},
   "source": [
    "### Visualize Training Results"
   ]
  },
  {
   "cell_type": "code",
   "execution_count": null,
   "metadata": {},
   "outputs": [],
   "source": [
    "# Plot training metrics\n",
    "visualizer.plot_training_metrics(manager)"
   ]
  },
  {
   "cell_type": "markdown",
   "metadata": {},
   "source": [
    "## 3. Running the System\n",
    "\n",
    "Now we can start the full system with both components integrated."
   ]
  },
  {
   "cell_type": "code",
   "execution_count": null,
   "metadata": {},
   "outputs": [],
   "source": [
    "# Start the secure cloud manager (using the already trained models)\n",
    "manager.start(train_first=False)"
   ]
  },
  {
   "cell_type": "markdown",
   "metadata": {},
   "source": [
    "### System Status and Visualization"
   ]
  },
  {
   "cell_type": "code",
   "execution_count": null,
   "metadata": {},
   "outputs": [],
   "source": [
    "# Get current system status\n",
    "status = manager.get_system_status()\n",
    "\n",
    "# Update visualizer history\n",
    "visualizer.update_history(status)\n",
    "\n",
    "# Plot system overview\n",
    "visualizer.plot_system_overview(status)"
   ]
  },
  {
   "cell_type": "markdown",
   "metadata": {},
   "source": [
    "## 4. Simulated Attacks and System Response\n",
    "\n",
    "Let's simulate various types of attacks to see how the system responds."
   ]
  },
  {
   "cell_type": "code",
   "execution_count": null,
   "metadata": {},
   "outputs": [],
   "source": [
    "# Simulate a DDoS attack on VM 0\n",
    "manager.simulate_attack('ddos', vm_idx=0, severity=0.8)\n",
    "\n",
    "# Wait for the system to respond\n",
    "print(\"Waiting for system response...\")\n",
    "time.sleep(10)\n",
    "\n",
    "# Get updated status\n",
    "status = manager.get_system_status()\n",
    "visualizer.update_history(status)\n",
    "\n",
    "# Plot threat analysis\n",
    "visualizer.plot_threat_analysis(status)"
   ]
  },
  {
   "cell_type": "markdown",
   "metadata": {},
   "source": [
    "Let's try another type of attack."
   ]
  },
  {
   "cell_type": "code",
   "execution_count": null,
   "metadata": {},
   "outputs": [],
   "source": [
    "# Simulate a cryptojacking attack on VM 3\n",
    "manager.simulate_attack('cryptojacking', vm_idx=3, severity=0.7)\n",
    "\n",
    "# Wait for the system to respond\n",
    "print(\"Waiting for system response...\")\n",
    "time.sleep(10)\n",
    "\n",
    "# Get updated status\n",
    "status = manager.get_system_status()\n",
    "visualizer.update_history(status)\n",
    "\n",
    "# Plot system overview\n",
    "visualizer.plot_system_overview(status)"
   ]
  },
  {
   "cell_type": "markdown",
   "metadata": {},
   "source": [
    "## 5. Workload Injection\n",
    "\n",
    "Let's inject additional workload to see how the system handles it."
   ]
  },
  {
   "cell_type": "code",
   "execution_count": null,
   "metadata": {},
   "outputs": [],
   "source": [
    "# Inject workload to VM 2\n",
    "manager.inject_workload(vm_idx=2, workload_increase=0.4)\n",
    "\n",
    "# Wait for the system to respond\n",
    "print(\"Waiting for system response...\")\n",
    "time.sleep(10)\n",
    "\n",
    "# Get updated status\n",
    "status = manager.get_system_status()\n",
    "visualizer.update_history(status)\n",
    "\n",
    "# Plot system overview\n",
    "visualizer.plot_system_overview(status)"
   ]
  },
  {
   "cell_type": "markdown",
   "metadata": {},
   "source": [
    "## 6. Continuous Monitoring\n",
    "\n",
    "Let's set up a loop to continuously monitor the system for a period of time."
   ]
  },
  {
   "cell_type": "code",
   "execution_count": null,
   "metadata": {},
   "outputs": [],
   "source": [
    "# Monitor the system for 2 minutes (10 updates, 12 seconds apart)\n",
    "for i in range(10):\n",
    "    # Clear output for fresh display\n",
    "    clear_output(wait=True)\n",
    "    \n",
    "    # Get updated status\n",
    "    status = manager.get_system_status()\n",
    "    visualizer.update_history(status)\n",
    "    \n",
    "    # Display current status\n",
    "    print(f\"Monitoring update {i+1}/10\")\n",
    "    print(f\"System uptime: {status['system']['uptime']}\")\n",
    "    print(f\"Active VMs: {status['system']['active_vms']}/{status['system']['vm_count']}\")\n",
    "    print(f\"Average workload: {status['system']['avg_workload']:.2f}\")\n",
    "    print(f\"Security incidents: {status['system']['security_incidents']}\")\n",
    "    print(f\"System availability: {status['system']['availability']:.2f}\")\n",
    "    \n",
    "    # Plot system overview\n",
    "    visualizer.plot_system_overview(status)\n",
    "    \n",
    "    # Simulate a random event occasionally\n",
    "    if i % 3 == 0:\n",
    "        attack_types = ['ddos', 'cryptojacking', 'malware', 'insider']\n",
    "        attack_type = attack_types[i % len(attack_types)]\n",
    "        vm_idx = i % num_vms\n",
    "        severity = 0.5 + (i / 20)  # 0.5 to 1.0\n",
    "        \n",
    "        print(f\"\\nSimulating {attack_type} attack on VM {vm_idx} with severity {severity:.2f}\")\n",
    "        manager.simulate_attack(attack_type, vm_idx=vm_idx, severity=severity)\n",
    "    \n",
    "    # Wait for next update\n",
    "    time.sleep(12)"
   ]
  },
  {
   "cell_type": "markdown",
   "metadata": {},
   "source": [
    "## 7. Export Results"
   ]
  },
  {
   "cell_type": "code",
   "execution_count": null,
   "metadata": {},
   "outputs": [],
   "source": [
    "# Export data to CSV\n",
    "export_path = visualizer.export_data()\n",
    "print(f\"Data exported to: {export_path}\")"
   ]
  },
  {
   "cell_type": "markdown",
   "metadata": {},
   "source": [
    "## 8. Cleanup"
   ]
  },
  {
   "cell_type": "code",
   "execution_count": null,
   "metadata": {},
   "outputs": [],
   "source": [
    "# Stop the manager\n",
    "manager.stop()\n",
    "print(\"System stopped.\")"
   ]
  },
  {
   "cell_type": "markdown",
   "metadata": {},
   "source": [
    "## 9. Conclusion\n",
    "\n",
    "In this demonstration, we've seen how the integrated system:\n",
    "\n",
    "1. Trains both the DRL agent and IDS components\n",
    "2. Allocates resources efficiently based on workload\n",
    "3. Detects and responds to various types of security threats\n",
    "4. Visualizes system status and security metrics\n",
    "5. Maintains system performance while handling security incidents\n",
    "\n",
    "The system successfully balances the trade-off between performance optimization and security, making it suitable for modern cloud environments where both efficiency and security are critical."
   ]
  }
 ],
 "metadata": {
  "kernelspec": {
   "display_name": "Python 3",
   "language": "python",
   "name": "python3"
  },
  "language_info": {
   "codemirror_mode": {
    "name": "ipython",
    "version": 3
   },
   "file_extension": ".py",
   "mimetype": "text/x-python",
   "name": "python",
   "nbconvert_exporter": "python",
   "pygments_lexer": "ipython3",
   "version": "3.8.8"
  }
 },
 "nbformat": 4,
 "nbformat_minor": 4
}
